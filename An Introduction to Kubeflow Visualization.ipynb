{
 "cells": [
  {
   "cell_type": "markdown",
   "metadata": {
    "execution": {
     "iopub.execute_input": "2022-04-25T19:33:52.236268Z",
     "iopub.status.busy": "2022-04-25T19:33:52.235957Z",
     "iopub.status.idle": "2022-04-25T19:33:52.239999Z",
     "shell.execute_reply": "2022-04-25T19:33:52.239338Z",
     "shell.execute_reply.started": "2022-04-25T19:33:52.236194Z"
    },
    "tags": []
   },
   "source": [
    "# An Introduction to Kubeflow Lightweight Components"
   ]
  },
  {
   "cell_type": "markdown",
   "metadata": {},
   "source": [
    "## Imports\n",
    "\n",
    "I like to put all my imports at the top of the notebook."
   ]
  },
  {
   "cell_type": "code",
   "execution_count": 1,
   "metadata": {
    "execution": {
     "iopub.execute_input": "2022-05-09T20:50:12.130707Z",
     "iopub.status.busy": "2022-05-09T20:50:12.130471Z",
     "iopub.status.idle": "2022-05-09T20:50:12.715351Z",
     "shell.execute_reply": "2022-05-09T20:50:12.714488Z",
     "shell.execute_reply.started": "2022-05-09T20:50:12.130646Z"
    },
    "tags": []
   },
   "outputs": [],
   "source": [
    "import time\n",
    "\n",
    "from random import SystemRandom\n",
    "from string import ascii_lowercase as lc\n",
    "\n",
    "import kfp\n",
    "from kfp import dsl\n",
    "from kfp import compiler\n",
    "from typing import NamedTuple\n",
    "\n",
    "from kfp.v2.dsl import component, Input, Output, OutputPath, Dataset, Model, InputPath, OutputPath, ClassificationMetrics, Metrics\n",
    "\n",
    "#TypeError: In v2 components, please import the Python function annotations `InputPath` and `OutputPath` from package `kfp.v2.dsl` instead of `kfp.dsl`.\n",
    "\n",
    "rand = SystemRandom()\n",
    "\n",
    "\n",
    "def upload_pipeline(client: kfp.Client, metadata: dict, pipeline_function):\n",
    "    \n",
    "    compiler.Compiler().compile(\n",
    "        pipeline_function,\n",
    "        metadata.get(\"pipeline_package_path\"))\n",
    "\n",
    "    return client.upload_pipeline(\n",
    "        metadata.get(\"pipeline_package_path\"),\n",
    "        metadata.get(\"pipeline_name\"))\n",
    "\n",
    "\n",
    "def random_string():\n",
    "    return ''.join(rand.choice(lc) for _ in range(4))\n",
    "\n",
    "\n",
    "def experiment_metadata(\n",
    "    namespace: str,\n",
    "    experiment_name: str,\n",
    "    experiment_description: str,\n",
    "    pipeline_name: str,\n",
    "    pipeline_description: str\n",
    "):\n",
    "    \"\"\"Create Metadata for Kubeflow Pipeline Experiment.\"\"\"\n",
    "\n",
    "    _namespace = namespace.lower().replace(\" \", \"-\")\n",
    "    _experiment_name = f\"{namespace}-{experiment_name}\".lower().replace(\" \", \"-\")\n",
    "    _experiment_description = experiment_description\n",
    "    _pipeline_name = f\"{_experiment_name}-{pipeline_name}-{random_string()}\".lower().replace(\" \", \"-\")\n",
    "    _pipeline_description = pipeline_description\n",
    "    _run_name = f\"{time.strftime('%Y%m%d-%H%M%S')}-{_pipeline_name}\"\n",
    "    _pipeline_package_path = f\"{_run_name}.yaml.zip\"\n",
    "\n",
    "    print(\"--------------------------\")\n",
    "    print(\"Metadata\")\n",
    "    print(\"--------------------------\")\n",
    "    print(\"Namespace\")\n",
    "    print(f\"Name:\\t\\t{_namespace}\")\n",
    "    print(\"--------------------------\")\n",
    "    print(\"Experiment\")\n",
    "    print(f\"Name:\\t\\t{_experiment_name}\")\n",
    "    print(f\"Description:\\t{_experiment_description}\")\n",
    "    print(\"--------------------------\")\n",
    "    print(\"Pipeline\")\n",
    "    print(f\"Name:\\t\\t{_pipeline_name}\")\n",
    "    print(f\"Description:\\t{_pipeline_description}\")\n",
    "    print(f\"Zipped YAML:\\t{_pipeline_package_path}\")\n",
    "    print(\"--------------------------\")\n",
    "    print(\"Run\")\n",
    "    print(f\"Name:\\t\\t{_run_name}\")\n",
    "    print(\"--------------------------\")\n",
    "\n",
    "    return {\n",
    "        \"namespace\": _namespace,\n",
    "        \"experiment_name\": _experiment_name,\n",
    "        \"experiment_description\": _experiment_description,\n",
    "        \"pipeline_name\": _pipeline_name,\n",
    "        \"pipeline_description\": _pipeline_description,\n",
    "        \"run_name\": _run_name,\n",
    "        \"pipeline_package_path\": _pipeline_package_path\n",
    "    }"
   ]
  },
  {
   "cell_type": "markdown",
   "metadata": {},
   "source": [
    "## Metadata\n",
    "\n",
    "Fill out the metadata for the run, pipeline and experiment!\n",
    "\n",
    "1. `namespace`: Your namespace.\n",
    "1. `experiment_name`: Your pipelines are run in an experiment. Give your experiment a unique and descriptive name.\n",
    "1. `experiment_description`: You should provide a short description, it will be a gift to your future self.\n",
    "1. `pipeline_name`: Name your pipeline. Must be unique. Try to be descriptive.\n",
    "1. `pipeline_description`: The more metadata the better!\n",
    "1. `pipeline_package_path`: This is the location of the zipped YAML containing the description of the pipeline.\n",
    "1. `run_name`: The run's name is automatically generated by concatenating the `experiment_name`, `pipeline_name` and today's time/date."
   ]
  },
  {
   "cell_type": "code",
   "execution_count": 2,
   "metadata": {
    "execution": {
     "iopub.execute_input": "2022-05-09T20:50:12.716781Z",
     "iopub.status.busy": "2022-05-09T20:50:12.716587Z",
     "iopub.status.idle": "2022-05-09T20:50:12.722820Z",
     "shell.execute_reply": "2022-05-09T20:50:12.722268Z",
     "shell.execute_reply.started": "2022-05-09T20:50:12.716757Z"
    },
    "tags": []
   },
   "outputs": [
    {
     "name": "stdout",
     "output_type": "stream",
     "text": [
      "--------------------------\n",
      "Metadata\n",
      "--------------------------\n",
      "Namespace\n",
      "Name:\t\tbryanpaget\n",
      "--------------------------\n",
      "Experiment\n",
      "Name:\t\tbryanpaget-visualize-this!\n",
      "Description:\tBryan's Kubeflow visualization experiment.\n",
      "--------------------------\n",
      "Pipeline\n",
      "Name:\t\tbryanpaget-visualize-this!-yummy-not-yummy-hnam\n",
      "Description:\tIs it yummy or not?\n",
      "Zipped YAML:\t20220509-205012-bryanpaget-visualize-this!-yummy-not-yummy-hnam.yaml.zip\n",
      "--------------------------\n",
      "Run\n",
      "Name:\t\t20220509-205012-bryanpaget-visualize-this!-yummy-not-yummy-hnam\n",
      "--------------------------\n"
     ]
    }
   ],
   "source": [
    "# Fill in the following 5 metadata fields:\n",
    "namespace = \"bryanpaget\"\n",
    "\n",
    "experiment_name = \"Visualize This!\"\n",
    "experiment_description = \"Bryan's Kubeflow visualization experiment.\"\n",
    "\n",
    "pipeline_name = \"Yummy not Yummy\"\n",
    "pipeline_description = \"Is it yummy or not?\"\n",
    "\n",
    "# -------------------------------------------------\n",
    "\n",
    "# Metadata is created here:\n",
    "metadata = experiment_metadata(\n",
    "    namespace, experiment_name, experiment_description,\n",
    "    pipeline_name, pipeline_description)"
   ]
  },
  {
   "cell_type": "markdown",
   "metadata": {},
   "source": [
    "## Define Components as Functions"
   ]
  },
  {
   "cell_type": "code",
   "execution_count": 3,
   "metadata": {
    "execution": {
     "iopub.execute_input": "2022-05-09T20:50:12.723910Z",
     "iopub.status.busy": "2022-05-09T20:50:12.723650Z",
     "iopub.status.idle": "2022-05-09T20:50:12.785163Z",
     "shell.execute_reply": "2022-05-09T20:50:12.784494Z",
     "shell.execute_reply.started": "2022-05-09T20:50:12.723887Z"
    },
    "tags": []
   },
   "outputs": [],
   "source": [
    "@component(\n",
    "    base_image=\"k8scc01covidacr.azurecr.io/jupyterlab-cpu:16b01881\",\n",
    "    packages_to_install=[\"pandas\"],\n",
    "    output_component_file=\"save_confusion_matrix_op.yaml\"\n",
    ")\n",
    "def save_confusion_matrix(mlpipeline_ui_metadata_path: OutputPath()):\n",
    "\n",
    "    import pandas as pd \n",
    "    import json\n",
    "\n",
    "    matrix = [\n",
    "        ['yummy', 'yummy', 10],\n",
    "        ['yummy', 'not yummy', 2],\n",
    "        ['not yummy', 'yummy', 6],\n",
    "        ['not yummy', 'not yummy', 7]\n",
    "    ]\n",
    "\n",
    "    df = pd.DataFrame(matrix,columns=['target','predicted','count'])\n",
    "    print(df)\n",
    "\n",
    "    metadata = {\n",
    "        \"outputs\": [\n",
    "            {\n",
    "                \"type\": \"confusion_matrix\",\n",
    "                \"format\": \"csv\",\n",
    "                \"schema\": [\n",
    "                    {\n",
    "                        \"name\": \"target\",\n",
    "                        \"type\": \"CATEGORY\"\n",
    "                    },\n",
    "                    {\n",
    "                        \"name\": \"predicted\",\n",
    "                        \"type\": \"CATEGORY\"\n",
    "                    },\n",
    "                    {\n",
    "                        \"name\": \"count\",\n",
    "                        \"type\": \"NUMBER\"\n",
    "                    }\n",
    "                ],\n",
    "                \"source\": df.to_csv(header=False, index=False),\n",
    "                \"storage\": \"inline\",\n",
    "                \"labels\": [\n",
    "                    \"yummy\",\n",
    "                    \"not yummy\"\n",
    "                ]\n",
    "            }\n",
    "        ]\n",
    "    }\n",
    "\n",
    "    with open(mlpipeline_ui_metadata_path, 'w') as f:\n",
    "        json.dump(metadata, f)\n",
    "\n",
    "\n",
    "@component(\n",
    "    base_image=\"k8scc01covidacr.azurecr.io/jupyterlab-cpu:16b01881\",\n",
    "    packages_to_install=[\"pandas\"],\n",
    "    output_component_file=\"produce_metrics_op.yaml\"\n",
    ")\n",
    "def produce_metrics() -> NamedTuple(\"Outputs\", [(\"mlpipeline_metrics\", 'Metrics')]):\n",
    "\n",
    "    import json\n",
    "\n",
    "    accuracy = 0.9\n",
    "\n",
    "    metrics = {\n",
    "        \"metrics\": [{\n",
    "            \"name\": \"accuracy-score\",  # The name of the metric. Visualized as the column name in the runs table.\n",
    "            \"numberValue\":  accuracy,  # The value of the metric. Must be a numeric value.\n",
    "            \"format\": \"PERCENTAGE\"     # The optional format of the metric. Supported values are \"RAW\" (displayed in raw format) and \"PERCENTAGE\" (displayed in percentage format).\n",
    "        }]\n",
    "    }\n",
    "\n",
    "    return [json.dumps(metrics)]\n",
    "\n",
    "\n",
    "@component(\n",
    "    base_image=\"k8scc01covidacr.azurecr.io/jupyterlab-cpu:16b01881\",\n",
    "    packages_to_install=[\"sklearn\"],\n",
    "    output_component_file=\"iris_sgdclassifier_op.yaml\"\n",
    ")\n",
    "def iris_sgdclassifier(\n",
    "    test_samples_fraction: float,\n",
    "    metrics: Output[ClassificationMetrics]\n",
    "):\n",
    "\n",
    "    from sklearn import datasets, model_selection\n",
    "    from sklearn.linear_model import SGDClassifier\n",
    "    from sklearn.metrics import confusion_matrix\n",
    "\n",
    "    iris_dataset = datasets.load_iris()\n",
    "    \n",
    "    train_x, test_x, train_y, test_y = model_selection.train_test_split(\n",
    "        iris_dataset['data'],\n",
    "        iris_dataset['target'],\n",
    "        test_size=test_samples_fraction)\n",
    "\n",
    "    classifier = SGDClassifier()\n",
    "\n",
    "    classifier.fit(train_x, train_y)\n",
    "\n",
    "    predictions = model_selection.cross_val_predict(\n",
    "        classifier,\n",
    "        train_x,\n",
    "        train_y,\n",
    "        cv=3)\n",
    "\n",
    "    metrics.log_confusion_matrix(\n",
    "        ['Setosa', 'Versicolour', 'Virginica'],\n",
    "        confusion_matrix(train_y, predictions).tolist())\n",
    "    \n",
    "\n",
    "@component(\n",
    "    base_image=\"k8scc01covidacr.azurecr.io/jupyterlab-cpu:16b01881\",\n",
    "    packages_to_install=[\"sklearn\"],\n",
    "    output_component_file=\"wine_classification_op.yaml\"\n",
    ")\n",
    "def wine_classification(metrics: Output[ClassificationMetrics]):\n",
    "    \n",
    "    from sklearn.ensemble import RandomForestClassifier\n",
    "    from sklearn.metrics import roc_curve\n",
    "    from sklearn.datasets import load_wine\n",
    "    from sklearn.model_selection import train_test_split, cross_val_predict\n",
    "\n",
    "    X, y = load_wine(return_X_y=True)\n",
    "    # Binary classification problem for label 1.\n",
    "    y = y == 1\n",
    "\n",
    "    X_train, X_test, y_train, y_test = train_test_split(X, y, random_state=42)\n",
    "    rfc = RandomForestClassifier(n_estimators=10, random_state=42)\n",
    "    rfc.fit(X_train, y_train)\n",
    "    y_scores = cross_val_predict(rfc, X_train, y_train, cv=3, method='predict_proba')\n",
    "    y_predict = cross_val_predict(rfc, X_train, y_train, cv=3, method='predict')\n",
    "    fpr, tpr, thresholds = roc_curve(y_true=y_train, y_score=y_scores[:,1], pos_label=True)\n",
    "    metrics.log_roc_curve(fpr, tpr, thresholds)\n",
    "\n",
    "\n",
    "@component(\n",
    "    base_image=\"k8scc01covidacr.azurecr.io/jupyterlab-cpu:16b01881\",\n",
    "    packages_to_install=[\"sklearn\"],\n",
    "    output_component_file=\"digit_classification_op.yaml\"\n",
    ")\n",
    "def digit_classification(metrics: Output[Metrics]):\n",
    "    \n",
    "    from sklearn import model_selection\n",
    "    from sklearn.linear_model import LogisticRegression\n",
    "    from sklearn import datasets\n",
    "    from sklearn.metrics import accuracy_score\n",
    "\n",
    "    # Load digits dataset\n",
    "    iris = datasets.load_iris()\n",
    "\n",
    "    # # Create feature matrix\n",
    "    X = iris.data\n",
    "\n",
    "    # Create target vector\n",
    "    y = iris.target\n",
    "\n",
    "    #test size\n",
    "    test_size = 0.33\n",
    "\n",
    "    seed = 7\n",
    "    #cross-validation settings\n",
    "    kfold = model_selection.KFold(n_splits=10, random_state=seed, shuffle=True)\n",
    "\n",
    "    #Model instance\n",
    "    model = LogisticRegression()\n",
    "    scoring = 'accuracy'\n",
    "    results = model_selection.cross_val_score(model, X, y, cv=kfold, scoring=scoring)\n",
    "\n",
    "    #split data\n",
    "    X_train, X_test, y_train, y_test = model_selection.train_test_split(X, y, test_size=test_size, random_state=seed)\n",
    "    #fit model\n",
    "    model.fit(X_train, y_train)\n",
    "\n",
    "    #accuracy on test set\n",
    "    result = model.score(X_test, y_test)\n",
    "    metrics.log_metric('accuracy', (result*100.0))"
   ]
  },
  {
   "cell_type": "markdown",
   "metadata": {},
   "source": [
    "## Pipeline"
   ]
  },
  {
   "cell_type": "code",
   "execution_count": 6,
   "metadata": {
    "execution": {
     "iopub.execute_input": "2022-05-09T20:51:16.871422Z",
     "iopub.status.busy": "2022-05-09T20:51:16.871151Z",
     "iopub.status.idle": "2022-05-09T20:51:16.875268Z",
     "shell.execute_reply": "2022-05-09T20:51:16.874643Z",
     "shell.execute_reply.started": "2022-05-09T20:51:16.871395Z"
    },
    "tags": []
   },
   "outputs": [],
   "source": [
    "@dsl.pipeline(\n",
    "    name=metadata.get(\"pipeline_name\"),\n",
    "    description=metadata.get(\"pipeline_description\")\n",
    ")\n",
    "def pipeline():\n",
    "    iris_sgdclassifier_op = iris_sgdclassifier(test_samples_fraction=0.3)\n",
    "    wine_classification_op = wine_classification()\n",
    "    digit_classification_op = digit_classification()\n",
    "    save_confusion_matrix_op = save_confusion_matrix()\n",
    "    produce_metrics_op = produce_metrics()"
   ]
  },
  {
   "cell_type": "markdown",
   "metadata": {
    "execution": {
     "iopub.execute_input": "2022-04-25T19:43:10.983738Z",
     "iopub.status.busy": "2022-04-25T19:43:10.983485Z",
     "iopub.status.idle": "2022-04-25T19:43:10.987774Z",
     "shell.execute_reply": "2022-04-25T19:43:10.987166Z",
     "shell.execute_reply.started": "2022-04-25T19:43:10.983713Z"
    }
   },
   "source": [
    "## Publish Pipeline and Run Pipeline in an Experiment\n",
    "\n",
    "The experiment is created once a connection is established to the KFP client. The pipeline is compiled and then run inside the experiment."
   ]
  },
  {
   "cell_type": "code",
   "execution_count": 7,
   "metadata": {
    "execution": {
     "iopub.execute_input": "2022-05-09T20:51:18.161890Z",
     "iopub.status.busy": "2022-05-09T20:51:18.161612Z",
     "iopub.status.idle": "2022-05-09T20:51:21.122102Z",
     "shell.execute_reply": "2022-05-09T20:51:21.121210Z",
     "shell.execute_reply.started": "2022-05-09T20:51:18.161861Z"
    },
    "tags": []
   },
   "outputs": [
    {
     "data": {
      "text/html": [
       "<a href=/pipeline/#/pipelines/details/4e907fd0-76cf-420f-b53d-4df590d28144>Pipeline details</a>."
      ],
      "text/plain": [
       "<IPython.core.display.HTML object>"
      ]
     },
     "metadata": {},
     "output_type": "display_data"
    },
    {
     "data": {
      "text/html": [
       "<a href=\"/pipeline/#/experiments/details/c015078a-15a4-4188-a0de-4523b3d0a0a6\" target=\"_blank\" >Experiment details</a>."
      ],
      "text/plain": [
       "<IPython.core.display.HTML object>"
      ]
     },
     "metadata": {},
     "output_type": "display_data"
    },
    {
     "data": {
      "text/html": [
       "<a href=\"/pipeline/#/runs/details/89295600-e1e2-4831-a7a6-725ad07794eb\" target=\"_blank\" >Run details</a>."
      ],
      "text/plain": [
       "<IPython.core.display.HTML object>"
      ]
     },
     "metadata": {},
     "output_type": "display_data"
    }
   ],
   "source": [
    "client = kfp.Client()\n",
    "\n",
    "response = upload_pipeline(client, metadata, pipeline)\n",
    "\n",
    "try:\n",
    "    experiment = client.get_experiment(\n",
    "        name=experiment_name,\n",
    "        description=experiment_description,\n",
    "        namespace=namespace)\n",
    "except:\n",
    "    experiment = client.create_experiment(\n",
    "        name=experiment_name,\n",
    "        description=experiment_description,\n",
    "        namespace=namespace)\n",
    "\n",
    "run = client.run_pipeline(\n",
    "    experiment_id=experiment.id,\n",
    "    job_name=metadata.get(\"run_name\"),\n",
    "    pipeline_package_path=metadata.get(\"pipeline_package_path\"))"
   ]
  },
  {
   "cell_type": "code",
   "execution_count": null,
   "metadata": {},
   "outputs": [],
   "source": []
  }
 ],
 "metadata": {
  "kernelspec": {
   "display_name": "Python 3",
   "language": "python",
   "name": "python3"
  },
  "language_info": {
   "codemirror_mode": {
    "name": "ipython",
    "version": 3
   },
   "file_extension": ".py",
   "mimetype": "text/x-python",
   "name": "python",
   "nbconvert_exporter": "python",
   "pygments_lexer": "ipython3",
   "version": "3.8.12"
  }
 },
 "nbformat": 4,
 "nbformat_minor": 4
}
